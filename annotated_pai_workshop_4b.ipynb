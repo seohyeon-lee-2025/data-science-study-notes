{
  "cells": [
    {
      "cell_type": "markdown",
      "metadata": {
        "id": "view-in-github",
        "colab_type": "text"
      },
      "source": [
        "<a href=\"https://colab.research.google.com/github/seohyeon-lee-2025/data-science-study-notes/blob/main/annotated_pai_workshop_4b.ipynb\" target=\"_parent\"><img src=\"https://colab.research.google.com/assets/colab-badge.svg\" alt=\"Open In Colab\"/></a>"
      ]
    },
    {
      "cell_type": "markdown",
      "metadata": {
        "id": "CRpDRNB2aN7f"
      },
      "source": [
        "# P-ai AI/ML Workshop: Session 4b\n",
        "\n",
        "Welcome to P-ai's third session of the AI/ML workshop series! Today we'll learn about\n",
        "- Deep learning\n",
        "    - How to build and train a neural net with Tensorflow and Keras\n",
        "    - Types of neural nets\n",
        "- Solving a real-world classification problem with a neural net\n",
        "\n",
        "<img src=\"https://images.squarespace-cdn.com/content/5d5aca05ce74150001a5af3e/1580018583262-NKE94RECI46GRULKS152/Screen+Shot+2019-12-05+at+11.18.53+AM.png?content-type=image%2Fpng\" width=\"200px\">"
      ]
    },
    {
      "cell_type": "markdown",
      "metadata": {
        "id": "6ng1mejAA1eU"
      },
      "source": [
        "## Implementation: Intro to Tensorflow and Keras\n",
        "\n",
        "<img src=\"https://3.bp.blogspot.com/-QZVBl08fmPk/XhO909Ha1dI/AAAAAAAACZI/q1a1UykGKe0KDUZ_ZITtWmM7bBJFRrvPQCLcBGAsYHQ/s1600/tensorflowkeras.jpg\" width=\"500px\">\n",
        "\n",
        "You might be wondering how to actually build and train a neural net. The most popular frameworks for deep learning are Google's [Tensorflow](https://www.tensorflow.org/) and Facebook's [Pytorch](https://pytorch.org/). Under the hood, it's basically a bunch of optimized graph algorithms that are necessary for neural networks.\n",
        "\n",
        "While you can build a neural net with Tensorflow alone (and in the future, you might need to do this to create a more \"customized\" neural net), this can often be a bit more involved than it has to be for a beginner. Luckily, Google also developed [Keras](https://keras.io/), which is an API for Tensorflow; in other words, it lets you write more readable and intuitive code, and Keras takes care of the nitty-gritty Tensorflow-y details.\n",
        "\n",
        "Let's take a look at how we would build the hypothetical neural net above with Keras."
      ]
    },
    {
      "cell_type": "code",
      "execution_count": 1,
      "metadata": {
        "id": "PjrkS8lfA1eX"
      },
      "outputs": [],
      "source": [
        "''' Imports; this might take a second to load '''\n",
        "import tensorflow\n",
        "# Import layers we need (in this case, just Dense)\n",
        "from tensorflow.keras.layers import Dense\n",
        "# Sequential model means you just add layers in a sequence\n",
        "from tensorflow.keras.models import Sequential\n",
        "# Adam optimizer\n",
        "from tensorflow.keras.optimizers import Adam"
      ]
    },
    {
      "cell_type": "code",
      "execution_count": 7,
      "metadata": {
        "id": "ElTVlnuLa2oP"
      },
      "outputs": [],
      "source": [
        "''' Build model '''\n",
        "model = Sequential()                                   # Define sequential model\n",
        "model.add(Dense(256, input_dim=26))                    # Input layer and first hidden layer\n",
        "model.add(Dense(256))                                  # Second hidden layer\n",
        "model.add(Dense(3, activation='softmax'))              # Output layer; note activation function"
      ]
    },
    {
      "cell_type": "code",
      "execution_count": 8,
      "metadata": {
        "id": "qga8RYabA1ef"
      },
      "outputs": [],
      "source": [
        "''' Choose optimizer and loss function '''\n",
        "opt = Adam(learning_rate=0.001)              # Set learning rate to 0.001\n",
        "loss = 'categorical_crossentropy'            # Using categorical crossentropy for multiclass classification\n",
        "#similar to mean squared error but is designed to compute loss in categorical variable: "
      ]
    },
    {
      "cell_type": "code",
      "execution_count": 9,
      "metadata": {
        "colab": {
          "base_uri": "https://localhost:8080/"
        },
        "id": "D7VTb-KvA1eg",
        "outputId": "613b75b0-08ed-46e0-f77e-6331776152b1"
      },
      "outputs": [
        {
          "output_type": "stream",
          "name": "stdout",
          "text": [
            "Model: \"sequential_1\"\n",
            "_________________________________________________________________\n",
            " Layer (type)                Output Shape              Param #   \n",
            "=================================================================\n",
            " dense_3 (Dense)             (None, 256)               6912      \n",
            "                                                                 \n",
            " dense_4 (Dense)             (None, 256)               65792     \n",
            "                                                                 \n",
            " dense_5 (Dense)             (None, 3)                 771       \n",
            "                                                                 \n",
            "=================================================================\n",
            "Total params: 73,475\n",
            "Trainable params: 73,475\n",
            "Non-trainable params: 0\n",
            "_________________________________________________________________\n"
          ]
        }
      ],
      "source": [
        "''' Compile model and print layer summary '''\n",
        "model.compile(optimizer=opt, \n",
        "    loss=loss,\n",
        "    metrics=['accuracy'])\n",
        "\n",
        "model.summary()"
      ]
    },
    {
      "cell_type": "markdown",
      "metadata": {
        "id": "Moa36FqAA1ei"
      },
      "source": [
        "And that's that! Now, let's imagine we have some data:"
      ]
    },
    {
      "cell_type": "code",
      "execution_count": 10,
      "metadata": {
        "id": "9WruHXKJA1ei"
      },
      "outputs": [],
      "source": [
        "import random\n",
        "import numpy as np\n",
        "\n",
        "# Generate enough random numbers\n",
        "random_numbers = np.random.rand(1000 * 26)\n",
        "# This represents 1,000 examples, each with 26 features (frequencies a-z)\n",
        "X = np.reshape(random_numbers, (1000, 26))\n",
        "# This represents 1,000 one-hot vectors (which language the corresponding x actually is)\n",
        "#[1 0 0] = English, [0 1 0] = German, [0 0 1] = Spanish. any encoding works as far as it's consistent\n",
        "y = np.zeros((1000, 3), dtype=int)\n",
        "for i in range(len(y)):\n",
        "    y[i][random.randint(0, 2)] = 1"
      ]
    },
    {
      "cell_type": "code",
      "execution_count": 20,
      "metadata": {
        "colab": {
          "base_uri": "https://localhost:8080/"
        },
        "id": "u08HE-SuA1ek",
        "outputId": "23098eef-9890-4f0c-e86b-5101d97c753e"
      },
      "outputs": [
        {
          "output_type": "stream",
          "name": "stdout",
          "text": [
            "Fake dataset:\n",
            "X shape:  (1000, 26)\n",
            "First X: [0.34319903 0.49121732 0.72579511 0.16865349 0.70948753 0.62319231\n",
            " 0.46342627 0.28914236 0.38879883 0.69882941 0.85042638 0.80007229\n",
            " 0.01328287 0.62910409 0.9328113  0.08590973 0.58870019 0.33227842\n",
            " 0.27513336 0.35857679 0.7830047  0.22132634 0.76181104 0.49817175\n",
            " 0.5913944  0.88381626]\n",
            "y shape:  (1000, 3)\n",
            "First y: [1 0 0]\n"
          ]
        }
      ],
      "source": [
        "print(\"Fake dataset:\")\n",
        "print(\"X shape: \", X.shape)\n",
        "print(\"First X:\", X[41]) #first x = first sentence in fake dataset\n",
        "print(\"y shape: \", y.shape)\n",
        "print(\"First y:\", y[41]) #first y = language prediction of first sentence in fake dataset"
      ]
    },
    {
      "cell_type": "markdown",
      "metadata": {
        "id": "qGjKxFgkA1el"
      },
      "source": [
        "Now, we can fit our model to this fake data."
      ]
    },
    {
      "cell_type": "code",
      "execution_count": 29,
      "metadata": {
        "scrolled": false,
        "colab": {
          "base_uri": "https://localhost:8080/"
        },
        "id": "qdL7ZT9pA1em",
        "outputId": "01b24c81-8de6-47dd-d54f-a4070de621d7"
      },
      "outputs": [
        {
          "output_type": "stream",
          "name": "stdout",
          "text": [
            "X_test (250, 26)\n",
            "X_train (750, 26)\n",
            "y_test (250, 3)\n",
            "y_train (750, 3)\n",
            "Epoch 1/10\n",
            "24/24 [==============================] - 0s 6ms/step - loss: 1.0819 - accuracy: 0.4000\n",
            "Epoch 2/10\n",
            "24/24 [==============================] - 0s 6ms/step - loss: 1.0823 - accuracy: 0.4107\n",
            "Epoch 3/10\n",
            "24/24 [==============================] - 0s 5ms/step - loss: 1.0734 - accuracy: 0.4067\n",
            "Epoch 4/10\n",
            "24/24 [==============================] - 0s 5ms/step - loss: 1.0717 - accuracy: 0.4053\n",
            "Epoch 5/10\n",
            "24/24 [==============================] - 0s 4ms/step - loss: 1.0705 - accuracy: 0.4053\n",
            "Epoch 6/10\n",
            "24/24 [==============================] - 0s 4ms/step - loss: 1.0748 - accuracy: 0.3947\n",
            "Epoch 7/10\n",
            "24/24 [==============================] - 0s 3ms/step - loss: 1.0742 - accuracy: 0.4067\n",
            "Epoch 8/10\n",
            "24/24 [==============================] - 0s 3ms/step - loss: 1.0750 - accuracy: 0.4093\n",
            "Epoch 9/10\n",
            "24/24 [==============================] - 0s 3ms/step - loss: 1.0720 - accuracy: 0.4187\n",
            "Epoch 10/10\n",
            "24/24 [==============================] - 0s 4ms/step - loss: 1.0705 - accuracy: 0.4027\n"
          ]
        }
      ],
      "source": [
        "from sklearn.model_selection import train_test_split\n",
        "# Split data into training and test data\n",
        "X_train, X_test, y_train, y_test = train_test_split(X, y)\n",
        "print(\"X_test\",X_test.shape)\n",
        "print(\"X_train\",X_train.shape)\n",
        "print(\"y_test\",y_test.shape)\n",
        "print(\"y_train\",y_train.shape)\n",
        "# Here we can specify the number of epochs to train on, the batch size, and much more\n",
        "# Check out the documentation for more!\n",
        "history = model.fit(X_train, y_train, epochs=10, batch_size=32) \n",
        "#model.fit runs the actual calculations\n",
        "#epoch: how many times to iterate over this, batchsize: we are looking at 32 random inputs before updating the model's internal parameter\n",
        "#low accuracy because dataset is nonsensical and model cannot find a meaningful mapping from X to y\n",
        "#but still better than random guessing (1/3 chance since we have 3 options). it means the model is overfitting. \n",
        "#better-than-expected model performance doesn't necessarily mean overfitting\n",
        "#accuracy from train set!"
      ]
    },
    {
      "cell_type": "markdown",
      "metadata": {
        "id": "bevyAqxnA1en"
      },
      "source": [
        "Cool! We see a lot of stuff being output, and it might seem like a lot; here's the breakdown:\n",
        "\n",
        "<img src=\"tf_output.png\" width=\"700px\">"
      ]
    },
    {
      "cell_type": "markdown",
      "metadata": {
        "id": "slTf089rA1eo"
      },
      "source": [
        "Notice how, as the model trained on the training data for more epochs, the loss decreased and the accuracy increased. This is to be expected; the more times the model sees the data, the more it can fit to that data. You should probably be concerned about something, though...\n",
        "\n",
        "Since the data is random, the model should have not much more than a 33% accuracy. Yet, we see at the end of 10 epochs, the model's accuracy is above 40%. How can this be? Did the model discover some hidden patterns in the apparently random data?\n",
        "\n",
        "No. This is the classic problem of **overfitting**. "
      ]
    },
    {
      "cell_type": "markdown",
      "metadata": {
        "id": "s-jdZSfuA1ep"
      },
      "source": [
        "<img src=\"https://media.geeksforgeeks.org/wp-content/cdn-uploads/20190523171258/overfitting_2.png\" width=\"600px\">"
      ]
    },
    {
      "cell_type": "markdown",
      "metadata": {
        "id": "bzpd3omqA1eq"
      },
      "source": [
        "Virtually every machine learning model has the tendency to overfit on its training data; that is, it begins to learn the *specifics* of the data instead of the *general trend*. This isn't good, because that means your model is **unstable**, which means (among other things) it *won't generalize well*. This is why we have training and test sets; we test our model on data it's never seen before to test whether it can actually generalize what it's learned, or if it overfit."
      ]
    },
    {
      "cell_type": "code",
      "execution_count": 34,
      "metadata": {
        "colab": {
          "base_uri": "https://localhost:8080/"
        },
        "id": "nyoPJS4CA1er",
        "outputId": "f19a3956-6ddc-4dc4-955d-a970ee662b08"
      },
      "outputs": [
        {
          "output_type": "stream",
          "name": "stdout",
          "text": [
            "8/8 [==============================] - 0s 2ms/step - loss: 1.1610 - accuracy: 0.3120\n"
          ]
        },
        {
          "output_type": "execute_result",
          "data": {
            "text/plain": [
              "[1.1609575748443604, 0.31200000643730164]"
            ]
          },
          "metadata": {},
          "execution_count": 34
        }
      ],
      "source": [
        "# Test our model on the test dataset\n",
        "model.evaluate(X_test, y_test)"
      ]
    },
    {
      "cell_type": "markdown",
      "metadata": {
        "id": "D2b0SBUQA1es"
      },
      "source": [
        "The result of `evaluate` is a list of the final loss and accuracy (or whatever metric we compiled the model with). We can see that the model is actually only right ~33% of the time on data it hasn't seen before, which is exactly what we would expect. That means that our model did overfit on the training data a bit, as we would expect would happen with random data.\n",
        "\n",
        "**Helpful tip**: When calling `.fit()`, you can also pass in a validation split, which splits your training data *again* into training and validation data, and Tensorflow will test your model on the validation data after each epoch."
      ]
    },
    {
      "cell_type": "code",
      "execution_count": 32,
      "metadata": {
        "id": "5_ax_gpQA1et"
      },
      "outputs": [],
      "source": [
        "def buildModel():\n",
        "    model = Sequential()\n",
        "    model.add(Dense(128, input_dim=26))\n",
        "    model.add(Dense(256))\n",
        "    model.add(Dense(3, activation='softmax'))\n",
        "    opt = Adam(learning_rate=0.001)\n",
        "    loss = 'categorical_crossentropy'\n",
        "    model.compile(optimizer=opt, \n",
        "        loss=loss,\n",
        "        metrics=['accuracy'])\n",
        "    return model"
      ]
    },
    {
      "cell_type": "code",
      "execution_count": 35,
      "metadata": {
        "colab": {
          "base_uri": "https://localhost:8080/"
        },
        "id": "AQXbyinZA1eu",
        "outputId": "d661b57c-71e9-4d4e-c11e-2ffbee5b6fba"
      },
      "outputs": [
        {
          "output_type": "stream",
          "name": "stdout",
          "text": [
            "Epoch 1/5\n",
            "19/19 [==============================] - 1s 12ms/step - loss: 1.1709 - accuracy: 0.3050 - val_loss: 1.1194 - val_accuracy: 0.3467\n",
            "Epoch 2/5\n",
            "19/19 [==============================] - 0s 4ms/step - loss: 1.1014 - accuracy: 0.3650 - val_loss: 1.1628 - val_accuracy: 0.3200\n",
            "Epoch 3/5\n",
            "19/19 [==============================] - 0s 5ms/step - loss: 1.1079 - accuracy: 0.3583 - val_loss: 1.1137 - val_accuracy: 0.3267\n",
            "Epoch 4/5\n",
            "19/19 [==============================] - 0s 5ms/step - loss: 1.0851 - accuracy: 0.3950 - val_loss: 1.1529 - val_accuracy: 0.3067\n",
            "Epoch 5/5\n",
            "19/19 [==============================] - 0s 5ms/step - loss: 1.0926 - accuracy: 0.3950 - val_loss: 1.1414 - val_accuracy: 0.3600\n"
          ]
        }
      ],
      "source": [
        "model = buildModel()\n",
        "# Use 20% of the data for validation\n",
        "#accuracy: (measured on test set) = # of correct predictions by model / # of output\n",
        "history = model.fit(X_train, y_train, epochs=5, batch_size=32, validation_split=0.2)\n",
        "#tested on test set, not training set. -> accuracy went down near random guessing\n",
        "#validation accuracy (data obtained from outside train set) stops decreasing at some point. overfitting happens beyond this point. "
      ]
    },
    {
      "cell_type": "markdown",
      "metadata": {
        "id": "j-A8ESa2A1ev"
      },
      "source": [
        "We can now see the validation loss and accuracy after each epoch and, as we would expect, the validation loss / accuracy don't get any better the more we train.\n",
        "\n",
        "Before moving onto other types of neural nets and an example, we can quickly see how easy it is to make predictions with our neural net."
      ]
    },
    {
      "cell_type": "code",
      "execution_count": null,
      "metadata": {
        "id": "Qw0kYYIaA1ew",
        "outputId": "536f64a3-c99d-458c-fc4a-5fe39eb60e8e"
      },
      "outputs": [
        {
          "name": "stdout",
          "output_type": "stream",
          "text": [
            "[0.34128395 0.42128998 0.23742607]\n"
          ]
        }
      ],
      "source": [
        "# Dummy data; shape: (1, 26)\n",
        "# That is, one example with 26 features\n",
        "dataToClassify = np.reshape(np.random.rand(26), (1,26))\n",
        "pred = model.predict(dataToClassify)\n",
        "# Print prediction of first (only) example\n",
        "print(pred[0])"
      ]
    },
    {
      "cell_type": "markdown",
      "metadata": {
        "id": "DxzcYg79A1ex"
      },
      "source": [
        "Remember that, for multiclass classification, the output of the model is a vector of probabilities for each class. To get a single class, we can easily find the index with the highest probability."
      ]
    },
    {
      "cell_type": "code",
      "execution_count": null,
      "metadata": {
        "id": "_nXA95-7A1ey",
        "outputId": "359d3134-7a6d-45c5-ff3c-8a1aba6b4c82"
      },
      "outputs": [
        {
          "name": "stdout",
          "output_type": "stream",
          "text": [
            "1\n"
          ]
        }
      ],
      "source": [
        "print(np.argmax(pred[0]))"
      ]
    },
    {
      "cell_type": "markdown",
      "source": [
        "Image processing:\n",
        "\n",
        "\n",
        "*   all images must have same dimensions and framesize\n",
        "*   convert images into pixels\n",
        "\n",
        "Language:\n",
        "\n",
        "\n",
        "*   word embedding\n",
        "\n",
        "\n"
      ],
      "metadata": {
        "id": "ol4-jLpPLW5Q"
      }
    },
    {
      "cell_type": "markdown",
      "metadata": {
        "id": "0Gye7iAhA1ez"
      },
      "source": [
        "So, our model predicts that this hypothetical input (which we imagine is a vector of letter frequencies) belongs to language 0 (say, English).\n",
        "\n",
        "Pat yourself on the back, that's the basics of building a neural net!"
      ]
    },
    {
      "cell_type": "markdown",
      "metadata": {
        "id": "S3EV5_66d7Of"
      },
      "source": [
        "## 2. Other neural nets!\n",
        "\n",
        "There are many \"flavors\" of neural networks. Here are some of the most common:\n",
        "\n",
        "### Multilayer Perceptron (MLP) aka \"Vanilla\" Neural Net\n",
        "The neural nets we just looked at are MLPs, or the \"vanilla\" feed-forward neural net. Many times, people will refer to these \"basic\" neural nets as just \"neural nets\" because they're not specifying a more specific type. MLPs find a relationship between 1D input and 1D output. So, if you can encode both your inputs and outputs as vectors, chances are, all you need is an MLP.\n",
        "\n",
        "### Convolutional Neural Network (CNN)\n",
        "A CNN is a type of neural net that works best with input where the **location** of the values is important. Take our  vanilla neural net example; it doesn't matter which order we store the letter frequencies in our input vector so long as we stick with an order. We can't say the same for images; it may matter a lot *where* in an image some feature is. CNNs work by first **convolving** over the image, which would probably be a bit tangential to explain now, but you can read more about it [here](https://machinelearningmastery.com/convolutional-layers-for-deep-learning-neural-networks/). In any case, convolution allows the CNN to learn features about the relative location of values in the matrix, which is perfect for image processing!\n",
        "\n",
        "<img src=\"https://miro.medium.com/max/1400/1*XbuW8WuRrAY5pC4t-9DZAQ.jpeg\" width=\"600px\">\n",
        "\n",
        "### Long Short Term Memory (LSTM)\n",
        "The LSTM is a type of **RNN** (Recurrent Neural Network), which means it's meant to deal with **temporal** data. For example, if you were trying to predict something about a **sequence** of values, a regular neural network wouldn't do the trick. The LSTM introduces mechanisms for the net to \"remember\" old information and synthesize it with new information (hence the name). For a long time, LSTMs were the go-to for learning language, since you can represent a series of words numerically (see [word embeddings](https://machinelearningmastery.com/what-are-word-embeddings/)!).\n",
        "\n",
        "<img src=\"https://miro.medium.com/max/1400/1*ahafyNt0Ph_J6Ed9_2hvdg.png\" width=\"600px\">\n",
        "\n",
        "### Transformer\n",
        "\n",
        "Transformers have really taken off in the past few years, especially with the enormous success of language models like BERT and GPT. Transformers build off of another type of model called the **encoder-decoder**, where the model learns both how to encode and decode data to get from input to output; the classic example is language translation. First, you encode a series of words in one language into a vector (the \"meaning\"), which is then decoded into a series of words in the second language. The transformer is basically an encoder-decoder on steroids; it has stacks of encoders and stacks of decoders, and it also implements this cool concept called [Attention](https://arxiv.org/abs/1706.03762), which helps the model learn *which* parts of the input correspond to which parts of the output. Transformers pretty much totally outperform LSTMs on translation tasks!\n",
        "\n",
        "<img src=\"https://jalammar.github.io/images/t/The_transformer_encoder_decoder_stack.png\" width=\"600px\">\n",
        "\n",
        "### GAN\n",
        "\n",
        "GAN stands for Generative Adversarial Network, and they were invented by machine learning celebrity [Ian Goodfellow](https://en.wikipedia.org/wiki/Ian_Goodfellow). The main idea of GANs is to have two components of the neural net; the *generator* and the *discriminator*, which \"compete\" with each other. The generator tries to generate data that is similar to the real data, and the discriminator tries to figure out which data are real and which were generated by the generator. Both \"adversaries\" get better throughout the training, and at some point, the generator may become so good, the discriminator can't tell which data is real and which is fake. At this point, thanks to the GAN, you have an impeccable generator and a classifier! There are lots of uses for GANs, from [generating images of people that don't exist](https://thispersondoesnotexist.com/) to [turning sketches into photorealistic images](https://arxiv.org/pdf/1801.02753.pdf).\n",
        "\n",
        "<img src=\"https://i1.wp.com/bdtechtalks.com/wp-content/uploads/2018/05/GANs.png?resize=696%2C304&ssl=1\" width=\"600px\">\n",
        "\n",
        "These are just a few of the most common \"types\" of models you'll hear about out there. There's no limit to the kinds of model you can put together, though. For example, if you need to learn spatio-temporal data, you can combine a CNN with an LSTM to get a CNN-LSTM. When you work with tensorflow directly, you can build your very own custom neural nets!"
      ]
    },
    {
      "cell_type": "markdown",
      "metadata": {
        "id": "HXt4njQuA1e2"
      },
      "source": [
        "## 3. Case Study\n",
        "\n",
        "To put our theory into practice, let's take a look at the [heart failure prediction dataset](https://www.kaggle.com/andrewmvd/heart-failure-clinical-data). The goal of this task is to predict whether patients died from heart failure within a certain time frame after their last check-in. First, we should take a look at the data we have."
      ]
    },
    {
      "cell_type": "code",
      "execution_count": 38,
      "metadata": {
        "id": "zI8_a5cuA1e3"
      },
      "outputs": [],
      "source": [
        "# Helpful imports\n",
        "import pandas as pd\n",
        "import seaborn as sns\n",
        "import matplotlib.pyplot as plt\n",
        "from sklearn.preprocessing import StandardScaler"
      ]
    },
    {
      "cell_type": "code",
      "execution_count": 40,
      "metadata": {
        "colab": {
          "base_uri": "https://localhost:8080/",
          "height": 488
        },
        "id": "hzNGV-sZA1e4",
        "outputId": "fe7acb37-3c46-4611-d3ec-53014ef3970a"
      },
      "outputs": [
        {
          "output_type": "execute_result",
          "data": {
            "text/plain": [
              "      age  anaemia  creatinine_phosphokinase  diabetes  ejection_fraction  \\\n",
              "0    75.0        0                       582         0                 20   \n",
              "1    55.0        0                      7861         0                 38   \n",
              "2    65.0        0                       146         0                 20   \n",
              "3    50.0        1                       111         0                 20   \n",
              "4    65.0        1                       160         1                 20   \n",
              "..    ...      ...                       ...       ...                ...   \n",
              "294  62.0        0                        61         1                 38   \n",
              "295  55.0        0                      1820         0                 38   \n",
              "296  45.0        0                      2060         1                 60   \n",
              "297  45.0        0                      2413         0                 38   \n",
              "298  50.0        0                       196         0                 45   \n",
              "\n",
              "     high_blood_pressure  platelets  serum_creatinine  serum_sodium  sex  \\\n",
              "0                      1  265000.00               1.9           130    1   \n",
              "1                      0  263358.03               1.1           136    1   \n",
              "2                      0  162000.00               1.3           129    1   \n",
              "3                      0  210000.00               1.9           137    1   \n",
              "4                      0  327000.00               2.7           116    0   \n",
              "..                   ...        ...               ...           ...  ...   \n",
              "294                    1  155000.00               1.1           143    1   \n",
              "295                    0  270000.00               1.2           139    0   \n",
              "296                    0  742000.00               0.8           138    0   \n",
              "297                    0  140000.00               1.4           140    1   \n",
              "298                    0  395000.00               1.6           136    1   \n",
              "\n",
              "     smoking  time  DEATH_EVENT  \n",
              "0          0     4            1  \n",
              "1          0     6            1  \n",
              "2          1     7            1  \n",
              "3          0     7            1  \n",
              "4          0     8            1  \n",
              "..       ...   ...          ...  \n",
              "294        1   270            0  \n",
              "295        0   271            0  \n",
              "296        0   278            0  \n",
              "297        1   280            0  \n",
              "298        1   285            0  \n",
              "\n",
              "[299 rows x 13 columns]"
            ],
            "text/html": [
              "\n",
              "  <div id=\"df-83d53e7f-df21-4cfc-9c78-f872cb6afedf\">\n",
              "    <div class=\"colab-df-container\">\n",
              "      <div>\n",
              "<style scoped>\n",
              "    .dataframe tbody tr th:only-of-type {\n",
              "        vertical-align: middle;\n",
              "    }\n",
              "\n",
              "    .dataframe tbody tr th {\n",
              "        vertical-align: top;\n",
              "    }\n",
              "\n",
              "    .dataframe thead th {\n",
              "        text-align: right;\n",
              "    }\n",
              "</style>\n",
              "<table border=\"1\" class=\"dataframe\">\n",
              "  <thead>\n",
              "    <tr style=\"text-align: right;\">\n",
              "      <th></th>\n",
              "      <th>age</th>\n",
              "      <th>anaemia</th>\n",
              "      <th>creatinine_phosphokinase</th>\n",
              "      <th>diabetes</th>\n",
              "      <th>ejection_fraction</th>\n",
              "      <th>high_blood_pressure</th>\n",
              "      <th>platelets</th>\n",
              "      <th>serum_creatinine</th>\n",
              "      <th>serum_sodium</th>\n",
              "      <th>sex</th>\n",
              "      <th>smoking</th>\n",
              "      <th>time</th>\n",
              "      <th>DEATH_EVENT</th>\n",
              "    </tr>\n",
              "  </thead>\n",
              "  <tbody>\n",
              "    <tr>\n",
              "      <th>0</th>\n",
              "      <td>75.0</td>\n",
              "      <td>0</td>\n",
              "      <td>582</td>\n",
              "      <td>0</td>\n",
              "      <td>20</td>\n",
              "      <td>1</td>\n",
              "      <td>265000.00</td>\n",
              "      <td>1.9</td>\n",
              "      <td>130</td>\n",
              "      <td>1</td>\n",
              "      <td>0</td>\n",
              "      <td>4</td>\n",
              "      <td>1</td>\n",
              "    </tr>\n",
              "    <tr>\n",
              "      <th>1</th>\n",
              "      <td>55.0</td>\n",
              "      <td>0</td>\n",
              "      <td>7861</td>\n",
              "      <td>0</td>\n",
              "      <td>38</td>\n",
              "      <td>0</td>\n",
              "      <td>263358.03</td>\n",
              "      <td>1.1</td>\n",
              "      <td>136</td>\n",
              "      <td>1</td>\n",
              "      <td>0</td>\n",
              "      <td>6</td>\n",
              "      <td>1</td>\n",
              "    </tr>\n",
              "    <tr>\n",
              "      <th>2</th>\n",
              "      <td>65.0</td>\n",
              "      <td>0</td>\n",
              "      <td>146</td>\n",
              "      <td>0</td>\n",
              "      <td>20</td>\n",
              "      <td>0</td>\n",
              "      <td>162000.00</td>\n",
              "      <td>1.3</td>\n",
              "      <td>129</td>\n",
              "      <td>1</td>\n",
              "      <td>1</td>\n",
              "      <td>7</td>\n",
              "      <td>1</td>\n",
              "    </tr>\n",
              "    <tr>\n",
              "      <th>3</th>\n",
              "      <td>50.0</td>\n",
              "      <td>1</td>\n",
              "      <td>111</td>\n",
              "      <td>0</td>\n",
              "      <td>20</td>\n",
              "      <td>0</td>\n",
              "      <td>210000.00</td>\n",
              "      <td>1.9</td>\n",
              "      <td>137</td>\n",
              "      <td>1</td>\n",
              "      <td>0</td>\n",
              "      <td>7</td>\n",
              "      <td>1</td>\n",
              "    </tr>\n",
              "    <tr>\n",
              "      <th>4</th>\n",
              "      <td>65.0</td>\n",
              "      <td>1</td>\n",
              "      <td>160</td>\n",
              "      <td>1</td>\n",
              "      <td>20</td>\n",
              "      <td>0</td>\n",
              "      <td>327000.00</td>\n",
              "      <td>2.7</td>\n",
              "      <td>116</td>\n",
              "      <td>0</td>\n",
              "      <td>0</td>\n",
              "      <td>8</td>\n",
              "      <td>1</td>\n",
              "    </tr>\n",
              "    <tr>\n",
              "      <th>...</th>\n",
              "      <td>...</td>\n",
              "      <td>...</td>\n",
              "      <td>...</td>\n",
              "      <td>...</td>\n",
              "      <td>...</td>\n",
              "      <td>...</td>\n",
              "      <td>...</td>\n",
              "      <td>...</td>\n",
              "      <td>...</td>\n",
              "      <td>...</td>\n",
              "      <td>...</td>\n",
              "      <td>...</td>\n",
              "      <td>...</td>\n",
              "    </tr>\n",
              "    <tr>\n",
              "      <th>294</th>\n",
              "      <td>62.0</td>\n",
              "      <td>0</td>\n",
              "      <td>61</td>\n",
              "      <td>1</td>\n",
              "      <td>38</td>\n",
              "      <td>1</td>\n",
              "      <td>155000.00</td>\n",
              "      <td>1.1</td>\n",
              "      <td>143</td>\n",
              "      <td>1</td>\n",
              "      <td>1</td>\n",
              "      <td>270</td>\n",
              "      <td>0</td>\n",
              "    </tr>\n",
              "    <tr>\n",
              "      <th>295</th>\n",
              "      <td>55.0</td>\n",
              "      <td>0</td>\n",
              "      <td>1820</td>\n",
              "      <td>0</td>\n",
              "      <td>38</td>\n",
              "      <td>0</td>\n",
              "      <td>270000.00</td>\n",
              "      <td>1.2</td>\n",
              "      <td>139</td>\n",
              "      <td>0</td>\n",
              "      <td>0</td>\n",
              "      <td>271</td>\n",
              "      <td>0</td>\n",
              "    </tr>\n",
              "    <tr>\n",
              "      <th>296</th>\n",
              "      <td>45.0</td>\n",
              "      <td>0</td>\n",
              "      <td>2060</td>\n",
              "      <td>1</td>\n",
              "      <td>60</td>\n",
              "      <td>0</td>\n",
              "      <td>742000.00</td>\n",
              "      <td>0.8</td>\n",
              "      <td>138</td>\n",
              "      <td>0</td>\n",
              "      <td>0</td>\n",
              "      <td>278</td>\n",
              "      <td>0</td>\n",
              "    </tr>\n",
              "    <tr>\n",
              "      <th>297</th>\n",
              "      <td>45.0</td>\n",
              "      <td>0</td>\n",
              "      <td>2413</td>\n",
              "      <td>0</td>\n",
              "      <td>38</td>\n",
              "      <td>0</td>\n",
              "      <td>140000.00</td>\n",
              "      <td>1.4</td>\n",
              "      <td>140</td>\n",
              "      <td>1</td>\n",
              "      <td>1</td>\n",
              "      <td>280</td>\n",
              "      <td>0</td>\n",
              "    </tr>\n",
              "    <tr>\n",
              "      <th>298</th>\n",
              "      <td>50.0</td>\n",
              "      <td>0</td>\n",
              "      <td>196</td>\n",
              "      <td>0</td>\n",
              "      <td>45</td>\n",
              "      <td>0</td>\n",
              "      <td>395000.00</td>\n",
              "      <td>1.6</td>\n",
              "      <td>136</td>\n",
              "      <td>1</td>\n",
              "      <td>1</td>\n",
              "      <td>285</td>\n",
              "      <td>0</td>\n",
              "    </tr>\n",
              "  </tbody>\n",
              "</table>\n",
              "<p>299 rows × 13 columns</p>\n",
              "</div>\n",
              "      <button class=\"colab-df-convert\" onclick=\"convertToInteractive('df-83d53e7f-df21-4cfc-9c78-f872cb6afedf')\"\n",
              "              title=\"Convert this dataframe to an interactive table.\"\n",
              "              style=\"display:none;\">\n",
              "        \n",
              "  <svg xmlns=\"http://www.w3.org/2000/svg\" height=\"24px\"viewBox=\"0 0 24 24\"\n",
              "       width=\"24px\">\n",
              "    <path d=\"M0 0h24v24H0V0z\" fill=\"none\"/>\n",
              "    <path d=\"M18.56 5.44l.94 2.06.94-2.06 2.06-.94-2.06-.94-.94-2.06-.94 2.06-2.06.94zm-11 1L8.5 8.5l.94-2.06 2.06-.94-2.06-.94L8.5 2.5l-.94 2.06-2.06.94zm10 10l.94 2.06.94-2.06 2.06-.94-2.06-.94-.94-2.06-.94 2.06-2.06.94z\"/><path d=\"M17.41 7.96l-1.37-1.37c-.4-.4-.92-.59-1.43-.59-.52 0-1.04.2-1.43.59L10.3 9.45l-7.72 7.72c-.78.78-.78 2.05 0 2.83L4 21.41c.39.39.9.59 1.41.59.51 0 1.02-.2 1.41-.59l7.78-7.78 2.81-2.81c.8-.78.8-2.07 0-2.86zM5.41 20L4 18.59l7.72-7.72 1.47 1.35L5.41 20z\"/>\n",
              "  </svg>\n",
              "      </button>\n",
              "      \n",
              "  <style>\n",
              "    .colab-df-container {\n",
              "      display:flex;\n",
              "      flex-wrap:wrap;\n",
              "      gap: 12px;\n",
              "    }\n",
              "\n",
              "    .colab-df-convert {\n",
              "      background-color: #E8F0FE;\n",
              "      border: none;\n",
              "      border-radius: 50%;\n",
              "      cursor: pointer;\n",
              "      display: none;\n",
              "      fill: #1967D2;\n",
              "      height: 32px;\n",
              "      padding: 0 0 0 0;\n",
              "      width: 32px;\n",
              "    }\n",
              "\n",
              "    .colab-df-convert:hover {\n",
              "      background-color: #E2EBFA;\n",
              "      box-shadow: 0px 1px 2px rgba(60, 64, 67, 0.3), 0px 1px 3px 1px rgba(60, 64, 67, 0.15);\n",
              "      fill: #174EA6;\n",
              "    }\n",
              "\n",
              "    [theme=dark] .colab-df-convert {\n",
              "      background-color: #3B4455;\n",
              "      fill: #D2E3FC;\n",
              "    }\n",
              "\n",
              "    [theme=dark] .colab-df-convert:hover {\n",
              "      background-color: #434B5C;\n",
              "      box-shadow: 0px 1px 3px 1px rgba(0, 0, 0, 0.15);\n",
              "      filter: drop-shadow(0px 1px 2px rgba(0, 0, 0, 0.3));\n",
              "      fill: #FFFFFF;\n",
              "    }\n",
              "  </style>\n",
              "\n",
              "      <script>\n",
              "        const buttonEl =\n",
              "          document.querySelector('#df-83d53e7f-df21-4cfc-9c78-f872cb6afedf button.colab-df-convert');\n",
              "        buttonEl.style.display =\n",
              "          google.colab.kernel.accessAllowed ? 'block' : 'none';\n",
              "\n",
              "        async function convertToInteractive(key) {\n",
              "          const element = document.querySelector('#df-83d53e7f-df21-4cfc-9c78-f872cb6afedf');\n",
              "          const dataTable =\n",
              "            await google.colab.kernel.invokeFunction('convertToInteractive',\n",
              "                                                     [key], {});\n",
              "          if (!dataTable) return;\n",
              "\n",
              "          const docLinkHtml = 'Like what you see? Visit the ' +\n",
              "            '<a target=\"_blank\" href=https://colab.research.google.com/notebooks/data_table.ipynb>data table notebook</a>'\n",
              "            + ' to learn more about interactive tables.';\n",
              "          element.innerHTML = '';\n",
              "          dataTable['output_type'] = 'display_data';\n",
              "          await google.colab.output.renderOutput(dataTable, element);\n",
              "          const docLink = document.createElement('div');\n",
              "          docLink.innerHTML = docLinkHtml;\n",
              "          element.appendChild(docLink);\n",
              "        }\n",
              "      </script>\n",
              "    </div>\n",
              "  </div>\n",
              "  "
            ]
          },
          "metadata": {},
          "execution_count": 40
        }
      ],
      "source": [
        "# Read and display data from file\n",
        "heart_data = pd.read_csv('heart_failure.csv')\n",
        "heart_data"
      ]
    },
    {
      "cell_type": "markdown",
      "metadata": {
        "id": "qZ3vSFfuA1e6"
      },
      "source": [
        "We see that we have 12 features and one prediction variable, `DEATH_EVENT`. Some of the variables are continuous (like `age`, `platelets`), and others are binary (e.g. `anaemia`, `diabetes`). "
      ]
    },
    {
      "cell_type": "code",
      "execution_count": 41,
      "metadata": {
        "id": "rokgkzd8A1e7"
      },
      "outputs": [],
      "source": [
        "CONTINUOUS_COLS = ['age', 'creatinine_phosphokinase', 'ejection_fraction', 'platelets', 'serum_creatinine', 'serum_sodium', 'time']\n",
        "BINARY_COLS = ['anaemia', 'diabetes', 'high_blood_pressure', 'sex', 'smoking']\n",
        "TARGET_COL = 'DEATH_EVENT'"
      ]
    },
    {
      "cell_type": "markdown",
      "metadata": {
        "id": "-NOfX4E6A1e8"
      },
      "source": [
        "Let's plot all of our continuous variables against the target variable."
      ]
    },
    {
      "cell_type": "code",
      "execution_count": 42,
      "metadata": {
        "colab": {
          "base_uri": "https://localhost:8080/",
          "height": 1000
        },
        "id": "8g69__KIA1e8",
        "outputId": "07b4453f-92ee-45eb-f5c0-1bc96a02fbd9"
      },
      "outputs": [
        {
          "output_type": "display_data",
          "data": {
            "text/plain": [
              "<Figure size 439.5x360 with 1 Axes>"
            ],
            "image/png": "[encoded data removed]"
          },
          "metadata": {
            "needs_background": "light"
          }
        },
        {
          "output_type": "display_data",
          "data": {
            "text/plain": [
              "<Figure size 439.5x360 with 1 Axes>"
            ],
            "image/png": "[encoded data removed]"
          },
          "metadata": {
            "needs_background": "light"
          }
        },
        {
          "output_type": "display_data",
          "data": {
            "text/plain": [
              "<Figure size 439.5x360 with 1 Axes>"
            ],
            "image/png": "[encoded data removed]"
          },
          "metadata": {
            "needs_background": "light"
          }
        },
        {
          "output_type": "display_data",
          "data": {
            "text/plain": [
              "<Figure size 439.5x360 with 1 Axes>"
            ],
            "image/png": "[encoded data removed]"
          },
          "metadata": {
            "needs_background": "light"
          }
        },
        {
          "output_type": "display_data",
          "data": {
            "text/plain": [
              "<Figure size 439.5x360 with 1 Axes>"
            ],
            "image/png": "[encoded data removed]"
          },
          "metadata": {
            "needs_background": "light"
          }
        },
        {
          "output_type": "display_data",
          "data": {
            "text/plain": [
              "<Figure size 439.5x360 with 1 Axes>"
            ],
            "image/png": "[encoded data removed]"
          },
          "metadata": {
            "needs_background": "light"
          }
        },
        {
          "output_type": "display_data",
          "data": {
            "text/plain": [
              "<Figure size 439.5x360 with 1 Axes>"
            ],
            "image/png": "[encoded data removed]"
          },
          "metadata": {
            "needs_background": "light"
          }
        }
      ],
      "source": [
        "for col in CONTINUOUS_COLS:\n",
        "    # Distribution plot\n",
        "    sns.displot(heart_data, x=col, hue=TARGET_COL)\n",
        "    #histograms with all columns with continuous variables\n",
        "    #platelet -> not related\n",
        "    plt.show()"
      ]
    },
    {
      "cell_type": "markdown",
      "metadata": {
        "id": "L9JtG3Z5A1e-"
      },
      "source": [
        "We don't immediately see that any of these features would be excellent predictors of heart failure. The `time` variable (the follow-up period) might offer the most clues; it seems that a very quick follow-up results in heart failure more often than a much later follow-up.\n",
        "\n",
        "We can also take a look at our binary variables; we'll plot them as pie graphs."
      ]
    },
    {
      "cell_type": "code",
      "execution_count": 43,
      "metadata": {
        "scrolled": true,
        "colab": {
          "base_uri": "https://localhost:8080/",
          "height": 1000
        },
        "id": "zQwedjKwA1e_",
        "outputId": "8b615eb6-6b02-4839-c810-d3154b6940bd"
      },
      "outputs": [
        {
          "output_type": "stream",
          "name": "stdout",
          "text": [
            "anaemia\n"
          ]
        },
        {
          "output_type": "display_data",
          "data": {
            "text/plain": [
              "<Figure size 432x288 with 2 Axes>"
            ],
            "image/png": "[encoded data removed]"
          },
          "metadata": {}
        },
        {
          "output_type": "stream",
          "name": "stdout",
          "text": [
            "diabetes\n"
          ]
        },
        {
          "output_type": "display_data",
          "data": {
            "text/plain": [
              "<Figure size 432x288 with 2 Axes>"
            ],
            "image/png": "[encoded data removed]"
          },
          "metadata": {}
        },
        {
          "output_type": "stream",
          "name": "stdout",
          "text": [
            "high_blood_pressure\n"
          ]
        },
        {
          "output_type": "display_data",
          "data": {
            "text/plain": [
              "<Figure size 432x288 with 2 Axes>"
            ],
            "image/png": "[encoded data removed]"
          },
          "metadata": {}
        },
        {
          "output_type": "stream",
          "name": "stdout",
          "text": [
            "sex\n"
          ]
        },
        {
          "output_type": "display_data",
          "data": {
            "text/plain": [
              "<Figure size 432x288 with 2 Axes>"
            ],
            "image/png": "[encoded data removed]"
          },
          "metadata": {}
        },
        {
          "output_type": "stream",
          "name": "stdout",
          "text": [
            "smoking\n"
          ]
        },
        {
          "output_type": "display_data",
          "data": {
            "text/plain": [
              "<Figure size 432x288 with 2 Axes>"
            ],
            "image/png": "[encoded data removed]"
          },
          "metadata": {}
        }
      ],
      "source": [
        "#piechart for binary variable \n",
        "#survived and died sections look similar. not a good indicator of whether this person died.\n",
        "for col in BINARY_COLS:\n",
        "    f, (ax1, ax2) = plt.subplots(1, 2)\n",
        "    print(col)\n",
        "    ax1.pie(heart_data[heart_data[TARGET_COL] == 0][col].value_counts(), labels=[0,1], autopct='%1.1f%%')\n",
        "    ax1.set_title('Survived')\n",
        "    ax2.pie(heart_data[heart_data[TARGET_COL] == 1][col].value_counts(), labels=[0,1], autopct='%1.1f%%')\n",
        "    ax2.set_title('Died')\n",
        "    plt.show()"
      ]
    },
    {
      "cell_type": "markdown",
      "metadata": {
        "id": "PrSQQi0QA1fA"
      },
      "source": [
        "Across the board, we see little differences in the target variable due to any of these binary variables alone. Thus, we might expect this classification task be a bit challenging."
      ]
    },
    {
      "cell_type": "code",
      "execution_count": 45,
      "metadata": {
        "colab": {
          "base_uri": "https://localhost:8080/"
        },
        "id": "q4rsMWtjA1fB",
        "outputId": "e203fc54-58c5-40b9-e8b4-ab89bd5a4f23"
      },
      "outputs": [
        {
          "output_type": "stream",
          "name": "stdout",
          "text": [
            "239 training examples and 60 test examples\n"
          ]
        }
      ],
      "source": [
        "# X data is everything but the target column\n",
        "X_data = heart_data[heart_data.columns[:-1]]\n",
        "# y data is the target column\n",
        "y_data = heart_data[TARGET_COL]\n",
        "\n",
        "# Split into training and test data\n",
        "X_train, X_test, y_train, y_test = train_test_split(X_data, y_data, test_size=0.2)\n",
        "print(f\"{len(X_train)} training examples and {len(X_test)} test examples\")"
      ]
    },
    {
      "cell_type": "markdown",
      "metadata": {
        "id": "zoIppH73A1fC"
      },
      "source": [
        "It's also worth noting that the *scale* of the continuous variables vary drastically. Take a look at this:"
      ]
    },
    {
      "cell_type": "code",
      "execution_count": null,
      "metadata": {
        "id": "JYLpm_unA1fD"
      },
      "outputs": [],
      "source": [
        "print(\"Max age:\", max(X_data['age']))\n",
        "print(\"Max platelets:\", max(X_data['platelets']))"
      ]
    },
    {
      "cell_type": "markdown",
      "metadata": {
        "id": "bl6JDe4jA1fE"
      },
      "source": [
        "This is generally not ideal for neural nets. A big difference in scale between different features means that the \"larger scale\" features will naturally overpower the \"smaller scale\" ones, and the net will need to learn extremely small / large weights to keep the features comparable. This is unnecessary work for the neural net when we can just **normalize** our input first.\n",
        "\n",
        "There's a few different ways to normalize data, but the goal is to scale each features so they're comparable. We can use the [standard scaler](https://scikit-learn.org/stable/modules/generated/sklearn.preprocessing.StandardScaler.html) to perform standard normalization, which means transforming the data so that the mean and standard deviation of each feature is 0 and 1, respectively."
      ]
    },
    {
      "cell_type": "code",
      "execution_count": 47,
      "metadata": {
        "id": "thb-UNkkA1fF"
      },
      "outputs": [],
      "source": [
        "def normalify(data, columns, scaler=None):\n",
        "    ''' Apply normalization to the specified columns in data. Fits a scaler if one is not given '''\n",
        "    # Get columns to be normalized\n",
        "    data_to_normalize = data[columns]\n",
        "    # Get remaining data (not to be normalized)\n",
        "    remaining_cols = [c for c in data.columns if c not in columns]\n",
        "    remaining_data = data[remaining_cols]\n",
        "    # If no scaler is given, fit one\n",
        "    if not scaler:\n",
        "        scaler = StandardScaler()\n",
        "        scaler.fit(data_to_normalize)\n",
        "    # Apply standard scaler\n",
        "    data_normalized = scaler.transform(data_to_normalize)\n",
        "    # Recombine normalized and remaining data, and also return the scaler\n",
        "    return np.hstack((data_normalized, remaining_data)), scaler"
      ]
    },
    {
      "cell_type": "code",
      "execution_count": 48,
      "metadata": {
        "id": "mnhlkU2yA1fG"
      },
      "outputs": [],
      "source": [
        "# Apply our normalization process\n",
        "X_train_normalized, scaler = normalify(X_train, CONTINUOUS_COLS)\n",
        "X_test_normalized, _ = normalify(X_test, CONTINUOUS_COLS, scaler=scaler)"
      ]
    },
    {
      "cell_type": "code",
      "execution_count": 49,
      "metadata": {
        "id": "56mComP4A1fH"
      },
      "outputs": [],
      "source": [
        "# For consistency, we'll also turn our y data into numpy arrays\n",
        "y_train, y_test = np.array(y_train), np.array(y_test)"
      ]
    },
    {
      "cell_type": "markdown",
      "metadata": {
        "id": "7yL6CDGYA1fI"
      },
      "source": [
        "Our X data is now a matrix of values that mostly sit between -1 and 1. Cool!"
      ]
    },
    {
      "cell_type": "code",
      "execution_count": 50,
      "metadata": {
        "colab": {
          "base_uri": "https://localhost:8080/"
        },
        "id": "YJMDPwL5A1fJ",
        "outputId": "ed75053b-17ac-4518-f37a-8e3f3b8be5ae"
      },
      "outputs": [
        {
          "output_type": "stream",
          "name": "stdout",
          "text": [
            "X training data:\n",
            " [[ 2.05372711  5.39964501 -0.26499063 ...  0.          1.\n",
            "   1.        ]\n",
            " [ 0.68846323  0.01310596 -0.26499063 ...  0.          1.\n",
            "   0.        ]\n",
            " [ 0.68846323  0.01310596 -1.5282771  ...  0.          1.\n",
            "   1.        ]\n",
            " ...\n",
            " [-0.33548468 -0.46151928 -1.10718161 ...  1.          1.\n",
            "   0.        ]\n",
            " [ 0.34714726 -0.44830701 -0.68608612 ...  1.          0.\n",
            "   0.        ]\n",
            " [-0.50614266  2.26122376 -0.26499063 ...  1.          1.\n",
            "   0.        ]]\n",
            "Shape: (239, 12)\n"
          ]
        }
      ],
      "source": [
        "print(\"X training data:\\n\", X_train_normalized)\n",
        "print(\"Shape:\", X_train_normalized.shape)"
      ]
    },
    {
      "cell_type": "markdown",
      "metadata": {
        "id": "u2towviSA1fK"
      },
      "source": [
        "And, as expected, our y data are binary 0s (no heart failure) and 1s (heart failure)."
      ]
    },
    {
      "cell_type": "code",
      "execution_count": 51,
      "metadata": {
        "colab": {
          "base_uri": "https://localhost:8080/"
        },
        "id": "-vtqkduZA1fK",
        "outputId": "ee5109a3-1f45-4926-a84f-1d425ddd2374"
      },
      "outputs": [
        {
          "output_type": "stream",
          "name": "stdout",
          "text": [
            "y training data:\n",
            " [1 1 1 0 0 0 1 1 0 0 1 0 0 0 1 0 0 0 0 1 0 1 0 1 0 0 1 1 1 1 1 0 1 1 0 0 0\n",
            " 0 0 0 0 0 1 0 0 0 0 1 0 1 1 1 0 0 1 0 1 0 0 0 0 0 0 0 1 0 0 0 1 1 0 0 0 0\n",
            " 0 0 1 1 0 1 1 1 0 0 0 0 0 0 0 1 0 0 0 0 0 1 0 0 1 1 0 0 1 1 1 1 0 0 0 0 0\n",
            " 0 0 0 0 0 0 1 1 0 1 0 0 0 0 0 0 1 1 0 0 1 1 1 0 1 0 0 0 0 1 1 0 1 0 1 0 0\n",
            " 0 1 0 0 1 0 0 0 1 0 0 0 1 1 1 0 1 0 0 0 0 1 0 1 0 1 1 0 0 0 0 0 1 1 1 0 0\n",
            " 1 1 1 0 0 0 1 0 0 0 0 0 0 1 0 0 0 0 0 0 1 0 0 1 0 0 0 0 1 0 0 1 0 0 0 1 0\n",
            " 1 0 0 0 1 0 1 1 0 0 0 0 0 0 0 1 0]\n",
            "Shape: (239,)\n"
          ]
        }
      ],
      "source": [
        "print(\"y training data:\\n\", y_train)\n",
        "print(\"Shape:\", y_train.shape)"
      ]
    },
    {
      "cell_type": "markdown",
      "metadata": {
        "id": "DJ2Bmt4VA1fL"
      },
      "source": [
        "Let's build a model! We'll incorporate something called `Dropout`, which randomly deactivates (sets to 0) a certain proportion of weights in a layer. This might seem destructive; why do we want to un-learn what we've learned? Dropout is a great way to combat overfitting! \n",
        "\n",
        "By deactivating weights, the model is forced to re-learn those connections from the existing weights and in doing so, learns the data more deeply instead of \"memorizing\" the input-output relationship in the training data. You can think of dropout like working out; your muscles get damaged to grow back stronger."
      ]
    },
    {
      "cell_type": "code",
      "execution_count": 52,
      "metadata": {
        "id": "m_ktDe28A1fM"
      },
      "outputs": [],
      "source": [
        "from tensorflow.keras.layers import Dropout"
      ]
    },
    {
      "cell_type": "code",
      "execution_count": 53,
      "metadata": {
        "id": "ubIoW50mA1fN"
      },
      "outputs": [],
      "source": [
        "def defineBaselineModel():\n",
        "    ''' Define and return a neural net '''\n",
        "    model = Sequential()\n",
        "    model.add(Dense(64, input_dim=12))         # Input layer has 12 features; second layer of 64 neurons\n",
        "    model.add(Dropout(0.3))                    # 30% of weights are deactivated\n",
        "    model.add(Dense(128))                      # Third layer has 128 neurons\n",
        "    model.add(Dropout(0.3))\n",
        "    model.add(Dense(256))                      # Fourth layer has 256 neurons\n",
        "    model.add(Dropout(0.3))\n",
        "    model.add(Dense(1, activation='sigmoid'))  # One neuron for output with sigmoid activation\n",
        "    opt = Adam(learning_rate=0.01)             # Define optimizer\n",
        "    loss = 'binary_crossentropy'               # Binary crossentropy for loss\n",
        "    model.compile(optimizer=opt, loss=loss, metrics=['accuracy'])\n",
        "    return model"
      ]
    },
    {
      "cell_type": "code",
      "execution_count": 75,
      "metadata": {
        "scrolled": false,
        "colab": {
          "base_uri": "https://localhost:8080/"
        },
        "id": "WfA81mIvA1fN",
        "outputId": "ab4405a1-d1b9-47a9-cb5c-f503adf70b00"
      },
      "outputs": [
        {
          "output_type": "stream",
          "name": "stdout",
          "text": [
            "Model: \"sequential_15\"\n",
            "_________________________________________________________________\n",
            " Layer (type)                Output Shape              Param #   \n",
            "=================================================================\n",
            " dense_56 (Dense)            (None, 64)                832       \n",
            "                                                                 \n",
            " dropout_33 (Dropout)        (None, 64)                0         \n",
            "                                                                 \n",
            " dense_57 (Dense)            (None, 128)               8320      \n",
            "                                                                 \n",
            " dropout_34 (Dropout)        (None, 128)               0         \n",
            "                                                                 \n",
            " dense_58 (Dense)            (None, 256)               33024     \n",
            "                                                                 \n",
            " dropout_35 (Dropout)        (None, 256)               0         \n",
            "                                                                 \n",
            " dense_59 (Dense)            (None, 1)                 257       \n",
            "                                                                 \n",
            "=================================================================\n",
            "Total params: 42,433\n",
            "Trainable params: 42,433\n",
            "Non-trainable params: 0\n",
            "_________________________________________________________________\n"
          ]
        }
      ],
      "source": [
        "model = defineBaselineModel()\n",
        "model.summary()"
      ]
    },
    {
      "cell_type": "code",
      "execution_count": 82,
      "metadata": {
        "colab": {
          "base_uri": "https://localhost:8080/"
        },
        "id": "92HxbjRGA1fO",
        "outputId": "76c8c0ff-97a9-4f46-831d-9216ab435009"
      },
      "outputs": [
        {
          "output_type": "stream",
          "name": "stdout",
          "text": [
            "Epoch 1/3\n",
            "24/24 [==============================] - 0s 18ms/step - loss: 0.8482 - accuracy: 0.5445 - val_loss: 0.6759 - val_accuracy: 0.6667\n",
            "Epoch 2/3\n",
            "24/24 [==============================] - 0s 21ms/step - loss: 0.9831 - accuracy: 0.4921 - val_loss: 0.7891 - val_accuracy: 0.5208\n",
            "Epoch 3/3\n",
            "24/24 [==============================] - 0s 15ms/step - loss: 0.8818 - accuracy: 0.5026 - val_loss: 0.6377 - val_accuracy: 0.5625\n"
          ]
        },
        {
          "output_type": "execute_result",
          "data": {
            "text/plain": [
              "<keras.callbacks.History at 0x7f488b673850>"
            ]
          },
          "metadata": {},
          "execution_count": 82
        }
      ],
      "source": [
        "# Train model on data!\n",
        "model.fit(X_train_normalized, y_train, batch_size=8, epochs=3, validation_split = 0.2)\n",
        "#it's possible that accuracy (evaluated on train set) can be lower than val_accuracy (evaluated on validation set)"
      ]
    },
    {
      "cell_type": "code",
      "execution_count": 56,
      "metadata": {
        "colab": {
          "base_uri": "https://localhost:8080/"
        },
        "id": "DCaukLtrA1fP",
        "outputId": "ee6d1653-1794-4b5a-bc2b-968bd180f1e8"
      },
      "outputs": [
        {
          "output_type": "stream",
          "name": "stdout",
          "text": [
            "2/2 [==============================] - 0s 6ms/step - loss: 0.6027 - accuracy: 0.7500\n",
            "Accuracy: 0.75\n"
          ]
        }
      ],
      "source": [
        "# And evaluate!\n",
        "acc = model.evaluate(X_test_normalized, y_test)\n",
        "print(\"Accuracy:\", acc[1])"
      ]
    },
    {
      "cell_type": "markdown",
      "metadata": {
        "id": "i1e1It8uA1fR"
      },
      "source": [
        "The performance will vary every time you train the model, but when I ran it, the test accuracy was 78%. Let's check how well the model would do if it guessed `0` every time."
      ]
    },
    {
      "cell_type": "code",
      "execution_count": 59,
      "metadata": {
        "colab": {
          "base_uri": "https://localhost:8080/"
        },
        "id": "hLIQYVOqA1fS",
        "outputId": "9ec45d98-7966-4af1-df79-74d7493d8430"
      },
      "outputs": [
        {
          "output_type": "execute_result",
          "data": {
            "text/plain": [
              "0.6789297658862876"
            ]
          },
          "metadata": {},
          "execution_count": 59
        }
      ],
      "source": [
        "1 - (sum(y_data) / len(y_data)) #sum(y_data) is the # of occurences of 1 here"
      ]
    },
    {
      "cell_type": "markdown",
      "metadata": {
        "id": "a5XnzrJPA1fT"
      },
      "source": [
        "So, that's a little bit reassuring; the model performs about 10% better than it would by just guessing that there is never a heart failure. This isn't stellar, but if we preprocessed the data better (e.g. apply a log scale to `creatinine_phosphokinase`), or if we had more data, we could hope for a better performance.\n",
        "\n",
        "Even though we split our data into training and test data, it's very possible that, by random chance, our test set was \"easy\" and resulted in a better test accuracy than we would get with a different train-test split. For this reason, we often use **K-fold cross validation** as a way of combating this. Basically, the data gets split up into `k` \"folds\", and then the model is trained and tested on different combinations of those folds (each fold gets to be the test set once). We can take the average of each test accuracy as a more honest evaluation."
      ]
    },
    {
      "cell_type": "code",
      "execution_count": 71,
      "metadata": {
        "id": "18xh_fCFA1fU"
      },
      "outputs": [],
      "source": [
        "from sklearn.model_selection import KFold\n",
        "\n",
        "def create_data_splits(data, k=5):\n",
        "    ''' Returns a list of k tuples (X_train, X_test, y_train, y_test) '''\n",
        "    splits = []\n",
        "    kf = KFold(n_splits=k, shuffle=True)\n",
        "    # Get raw X and y data\n",
        "    X_data = data[data.columns[:-1]]\n",
        "    y_data = data[data.columns[-1]]\n",
        "    # kf.split returns train and test indexes\n",
        "    for train_indexes, test_indexes in kf.split(X_data):\n",
        "        # Get actual data by \"filtering\" by index using pandas' iloc\n",
        "        X_train, X_test = X_data.iloc[train_indexes], X_data.iloc[test_indexes]\n",
        "        y_train, y_test = y_data.iloc[train_indexes], y_data.iloc[test_indexes]\n",
        "        # Apply normalization\n",
        "        X_train_normalized, scaler = normalify(X_train, CONTINUOUS_COLS)\n",
        "        X_test_normalized, _ = normalify(X_test, CONTINUOUS_COLS, scaler=scaler)\n",
        "        y_train, y_test = np.array(y_train), np.array(y_test)\n",
        "        # Add tuple of data to splits\n",
        "        splits.append((X_train_normalized, X_test_normalized, y_train, y_test))\n",
        "    return splits"
      ]
    },
    {
      "cell_type": "code",
      "execution_count": 72,
      "metadata": {
        "colab": {
          "base_uri": "https://localhost:8080/"
        },
        "id": "GLE0bpDSA1fW",
        "outputId": "70df2de4-8cbf-461d-925c-0dbad173c2a5"
      },
      "outputs": [
        {
          "output_type": "stream",
          "name": "stderr",
          "text": [
            "WARNING:tensorflow:5 out of the last 30 calls to <function Model.make_test_function.<locals>.test_function at 0x7f488ea5fb00> triggered tf.function retracing. Tracing is expensive and the excessive number of tracings could be due to (1) creating @tf.function repeatedly in a loop, (2) passing tensors with different shapes, (3) passing Python objects instead of tensors. For (1), please define your @tf.function outside of the loop. For (2), @tf.function has reduce_retracing=True option that can avoid unnecessary retracing. For (3), please refer to https://www.tensorflow.org/guide/function#controlling_retracing and https://www.tensorflow.org/api_docs/python/tf/function for  more details.\n",
            "WARNING:tensorflow:6 out of the last 31 calls to <function Model.make_test_function.<locals>.test_function at 0x7f488debd9e0> triggered tf.function retracing. Tracing is expensive and the excessive number of tracings could be due to (1) creating @tf.function repeatedly in a loop, (2) passing tensors with different shapes, (3) passing Python objects instead of tensors. For (1), please define your @tf.function outside of the loop. For (2), @tf.function has reduce_retracing=True option that can avoid unnecessary retracing. For (3), please refer to https://www.tensorflow.org/guide/function#controlling_retracing and https://www.tensorflow.org/api_docs/python/tf/function for  more details.\n"
          ]
        },
        {
          "output_type": "stream",
          "name": "stdout",
          "text": [
            "0.788965517282486\n"
          ]
        }
      ],
      "source": [
        "# Use 10-fold validation\n",
        "k = 10\n",
        "splits = create_data_splits(heart_data, k=k)\n",
        "accuracies = []\n",
        "for X_train, X_test, y_train, y_test in splits:\n",
        "    # Important: define a new model every time you train on a new data split!\n",
        "    model = defineBaselineModel()\n",
        "    # verbose=0 doesn't show the progress bar\n",
        "    model.fit(X_train, y_train, batch_size=8, epochs=10, verbose=0)\n",
        "    _, accuracy = model.evaluate(X_test, y_test, verbose=0)\n",
        "    accuracies.append(accuracy)\n",
        "# Print average accuracy\n",
        "print(sum(accuracies) / k)"
      ]
    },
    {
      "cell_type": "markdown",
      "metadata": {
        "id": "qg5qkuAWA1fX"
      },
      "source": [
        "When I ran this code, it resulted in an average accuracy around 80%, which isn't half bad, and substantially better than random guess.\n",
        "\n",
        "That's all we have time for today! Another great thing to check out would be a confusion matrix, which will let you visualize *how* the model misclassifies. Check out workshop 3 if you'd like a refresher on how to make / interpret those."
      ]
    },
    {
      "cell_type": "markdown",
      "metadata": {
        "id": "X2cBlXSAA1fX"
      },
      "source": [
        "## Closing remarks\n",
        "\n",
        "<img src=\"working_on_workshop.jpg\" width=\"400px\">\n",
        "<br />\n",
        "<div width=\"100%\" style=\"text-align: center\">\n",
        "    Me working on this workshop at midnight; hope you've enjoyed learning about machine learning!\n",
        "</div>\n",
        "\n",
        "<img src=\"working_on_working_on_workshop.jpg\" width=\"400px\">\n",
        "<br />\n",
        "<div width=\"100%\" style=\"text-align: center\">\n",
        "    Me working on this workshop in the morning; hope you've enjoyed learning about machine learning!\n",
        "</div>"
      ]
    },
    {
      "cell_type": "code",
      "execution_count": null,
      "metadata": {
        "id": "zwK2hw49A1fY"
      },
      "outputs": [],
      "source": []
    }
  ],
  "metadata": {
    "colab": {
      "provenance": [],
      "include_colab_link": true
    },
    "kernelspec": {
      "display_name": "Python 3 (ipykernel)",
      "language": "python",
      "name": "python3"
    },
    "language_info": {
      "codemirror_mode": {
        "name": "ipython",
        "version": 3
      },
      "file_extension": ".py",
      "mimetype": "text/x-python",
      "name": "python",
      "nbconvert_exporter": "python",
      "pygments_lexer": "ipython3",
      "version": "3.9.9"
    },
    "vscode": {
      "interpreter": {
        "hash": "f2fc80e121636b772365a55387a8486b641440f139290df9d34a00bf7086ae22"
      }
    }
  },
  "nbformat": 4,
  "nbformat_minor": 0
}