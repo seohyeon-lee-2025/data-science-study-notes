{
  "nbformat": 4,
  "nbformat_minor": 0,
  "metadata": {
    "colab": {
      "provenance": [],
      "authorship_tag": "ABX9TyNfCamMBlDZzRUCP3rKPXFt",
      "include_colab_link": true
    },
    "kernelspec": {
      "name": "python3",
      "display_name": "Python 3"
    },
    "language_info": {
      "name": "python"
    }
  },
  "cells": [
    {
      "cell_type": "markdown",
      "metadata": {
        "id": "view-in-github",
        "colab_type": "text"
      },
      "source": [
        "<a href=\"https://colab.research.google.com/github/seohyeon-lee-2025/data-science-study-notes/blob/main/tidy_tuesday_0117.ipynb\" target=\"_parent\"><img src=\"https://colab.research.google.com/assets/colab-badge.svg\" alt=\"Open In Colab\"/></a>"
      ]
    },
    {
      "cell_type": "code",
      "execution_count": null,
      "metadata": {
        "colab": {
          "base_uri": "https://localhost:8080/"
        },
        "id": "7WiCQNW7QzSW",
        "outputId": "01644728-6846-4965-c00a-13fad0cec524"
      },
      "outputs": [
        {
          "output_type": "execute_result",
          "data": {
            "text/plain": [
              "Index(['artist_name', 'edition_number', 'year', 'artist_nationality',\n",
              "       'artist_nationality_other', 'artist_gender', 'artist_race',\n",
              "       'artist_ethnicity', 'book', 'space_ratio_per_page_total',\n",
              "       'artist_unique_id', 'moma_count_to_year', 'whitney_count_to_year',\n",
              "       'artist_race_nwi'],\n",
              "      dtype='object')"
            ]
          },
          "metadata": {},
          "execution_count": 2
        }
      ],
      "source": [
        "import pandas as pd\n",
        "import numpy as np\n",
        "\n",
        "df = pd.read_csv(\"tidy0117.csv\")\n",
        "df.shape\n",
        "df.columns"
      ]
    },
    {
      "cell_type": "code",
      "source": [
        "#percentage of white men featured every year\n",
        "#calculate % male first. break down by race. \n",
        "#alternatively calculate % white first. break down by gender. \n",
        "#the first approach seems better because we can infer % female from the result. \n",
        "\n",
        "#% of male artists from all yrs\n",
        "male_num = df.loc[df['artist_gender']==\"Male\"]['artist_name'].count()\n",
        "male_num\n",
        "tot_num = df['artist_name'].count()\n",
        "percent_male = male_num/tot_num\n",
        "percent_male"
      ],
      "metadata": {
        "colab": {
          "base_uri": "https://localhost:8080/"
        },
        "id": "ee6m-mb4dgfr",
        "outputId": "54bd8fd3-83e9-4eac-c189-00a48e8e8e97"
      },
      "execution_count": null,
      "outputs": [
        {
          "output_type": "execute_result",
          "data": {
            "text/plain": [
              "0.8734977862112587"
            ]
          },
          "metadata": {},
          "execution_count": 3
        }
      ]
    },
    {
      "cell_type": "code",
      "source": [
        "#% of white artists from all yrs\n",
        "white_num = df.loc[df['artist_race']==\"White\"]['artist_name'].count()\n",
        "percent_white = white_num/tot_num\n",
        "percent_white"
      ],
      "metadata": {
        "colab": {
          "base_uri": "https://localhost:8080/"
        },
        "id": "VlQVyk2UhVLw",
        "outputId": "06c66765-596a-4974-f4fe-223b2049e3b6"
      },
      "execution_count": null,
      "outputs": [
        {
          "output_type": "execute_result",
          "data": {
            "text/plain": [
              "0.9285262492093611"
            ]
          },
          "metadata": {},
          "execution_count": 4
        }
      ]
    },
    {
      "cell_type": "code",
      "source": [
        "male_count = df.loc[df['artist_gender']==\"Male\"].groupby([\"year\"])['year'].count()\n",
        "artists_num_yr = df.groupby(['year'])['year'].count()\n",
        "\n",
        "male_percent_yr = 100*male_count/artists_num_yr\n",
        "male_percent_yr.plot()"
      ],
      "metadata": {
        "id": "Z3T3CL84hiIZ",
        "colab": {
          "base_uri": "https://localhost:8080/",
          "height": 297
        },
        "outputId": "af8a8507-794f-4cc8-a331-2970b7fcd004"
      },
      "execution_count": null,
      "outputs": [
        {
          "output_type": "execute_result",
          "data": {
            "text/plain": [
              "<matplotlib.axes._subplots.AxesSubplot at 0x7f504a3dbf10>"
            ]
          },
          "metadata": {},
          "execution_count": 35
        },
        {
          "output_type": "display_data",
          "data": {
            "text/plain": [
              "<Figure size 432x288 with 1 Axes>"
            ],
            "image/png": "[encoded data removed]"
          },
          "metadata": {
            "needs_background": "light"
          }
        }
      ]
    },
    {
      "cell_type": "code",
      "source": [
        "race = df.groupby(['artist_gender', 'artist_race'])['year'].count()\n",
        "\n",
        "#wanted to break data down per year"
      ],
      "metadata": {
        "colab": {
          "base_uri": "https://localhost:8080/"
        },
        "id": "-1w0YRAMrLLW",
        "outputId": "fb1b655d-47b0-4055-d34d-d4e39f574b12"
      },
      "execution_count": null,
      "outputs": [
        {
          "output_type": "execute_result",
          "data": {
            "text/plain": [
              "artist_gender  artist_race                              \n",
              "Female         American Indian or Alaska Native                2\n",
              "               Asian                                           4\n",
              "               Black or African American                      11\n",
              "               Native Hawaiian or Other Pacific Islander       7\n",
              "               White                                         314\n",
              "Male           American Indian or Alaska Native                2\n",
              "               Asian                                          62\n",
              "               Black or African American                      72\n",
              "               Native Hawaiian or Other Pacific Islander       5\n",
              "               White                                        2621\n",
              "Name: year, dtype: int64"
            ]
          },
          "metadata": {},
          "execution_count": 38
        }
      ]
    },
    {
      "cell_type": "code",
      "source": [
        "import matplotlib.pyplot as plt\n",
        "race_split = df.loc[df['artist_gender']==\"Male\"].groupby(['year', 'artist_race'])['year'].count()\n",
        "plt_x = race_split.unstack().index.tolist()\n",
        "\n",
        "fig, ax = plt.subplots()\n",
        "race_yr = race_split.unstack().plot(ax=ax)\n",
        "male_yr = male_count.plot(ax=ax, color = \"blue\")\n",
        "\n",
        "yr_index = race_split.index.map(lambda item: item[0]).tolist()\n",
        "#plt.fill_between(yr_index, race_yr)\n",
        "plt.figure(figsize = (20, 20))"
      ],
      "metadata": {
        "colab": {
          "base_uri": "https://localhost:8080/",
          "height": 315
        },
        "id": "w8emixgptOyg",
        "outputId": "3880759e-dbb4-4b46-a472-03bfb9a8b935"
      },
      "execution_count": 89,
      "outputs": [
        {
          "output_type": "execute_result",
          "data": {
            "text/plain": [
              "<Figure size 1440x1440 with 0 Axes>"
            ]
          },
          "metadata": {},
          "execution_count": 89
        },
        {
          "output_type": "display_data",
          "data": {
            "text/plain": [
              "<Figure size 432x288 with 1 Axes>"
            ],
            "image/png": "[encoded data removed]"
          },
          "metadata": {
            "needs_background": "light"
          }
        },
        {
          "output_type": "display_data",
          "data": {
            "text/plain": [
              "<Figure size 1440x1440 with 0 Axes>"
            ]
          },
          "metadata": {}
        }
      ]
    },
    {
      "cell_type": "code",
      "source": [
        "\n"
      ],
      "metadata": {
        "colab": {
          "base_uri": "https://localhost:8080/"
        },
        "id": "IoQ89Jh68mpc",
        "outputId": "6e336de9-00ed-456a-b6a6-3e55ac2a256f"
      },
      "execution_count": 86,
      "outputs": [
        {
          "output_type": "execute_result",
          "data": {
            "text/plain": [
              "Int64Index([1926, 1936, 1948, 1959, 1963, 1969, 1970, 1975, 1977, 1980, 1986,\n",
              "            1991, 1995, 1996, 2001, 2005, 2007, 2009, 2011, 2013, 2016, 2020],\n",
              "           dtype='int64', name='year')"
            ]
          },
          "metadata": {},
          "execution_count": 86
        }
      ]
    }
  ]
}